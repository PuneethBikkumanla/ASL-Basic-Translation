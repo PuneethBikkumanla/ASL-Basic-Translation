{
 "cells": [
  {
   "cell_type": "code",
   "execution_count": 1,
   "metadata": {},
   "outputs": [
    {
     "name": "stderr",
     "output_type": "stream",
     "text": [
      "/usr/local/lib/python3.5/dist-packages/h5py/__init__.py:36: FutureWarning: Conversion of the second argument of issubdtype from `float` to `np.floating` is deprecated. In future, it will be treated as `np.float64 == np.dtype(float).type`.\n",
      "  from ._conv import register_converters as _register_converters\n",
      "Using TensorFlow backend.\n"
     ]
    }
   ],
   "source": [
    "import pandas as pd\n",
    "from PIL import Image\n",
    "from sklearn.preprocessing import OneHotEncoder\n",
    "from sklearn.preprocessing import StandardScaler\n",
    "\n",
    "import numpy as np\n",
    "\n",
    "#Training the model now\n",
    "from keras.models import Sequential\n",
    "from keras.layers import Convolution2D\n",
    "from keras.layers import MaxPooling2D\n",
    "from keras.layers import Flatten\n",
    "from keras.layers import Dense"
   ]
  },
  {
   "cell_type": "markdown",
   "metadata": {},
   "source": [
    "# Create Training Data"
   ]
  },
  {
   "cell_type": "code",
   "execution_count": 2,
   "metadata": {},
   "outputs": [],
   "source": [
    "train_data = pd.read_csv(\"sign_mnist_train.csv\")\n",
    "test_data = pd.read_csv(\"sign_mnist_test.csv\")\n",
    "\n",
    "def seperate_data(data):\n",
    "    X = data.iloc[:, 1:].values\n",
    "    Y = data.iloc[:, 0].values\n",
    "    return X,Y\n",
    "\n",
    "train_X, train_Y = seperate_data(train_data)\n",
    "test_X, test_Y = seperate_data(test_data)\n"
   ]
  },
  {
   "cell_type": "code",
   "execution_count": 3,
   "metadata": {},
   "outputs": [
    {
     "name": "stderr",
     "output_type": "stream",
     "text": [
      "/home/abhishek/.local/lib/python3.5/site-packages/sklearn/utils/validation.py:475: DataConversionWarning: Data with input dtype int64 was converted to float64 by StandardScaler.\n",
      "  warnings.warn(msg, DataConversionWarning)\n"
     ]
    },
    {
     "name": "stdout",
     "output_type": "stream",
     "text": [
      "(7172, 24)\n"
     ]
    }
   ],
   "source": [
    "scaler = StandardScaler()\n",
    "\n",
    "def encode(Y):\n",
    "    encoder = OneHotEncoder()\n",
    "    Y = Y.reshape(-1,1)\n",
    "    Y = encoder.fit_transform(Y)\n",
    "    Y = Y.toarray()\n",
    "    return Y\n",
    "\n",
    "train_Y = encode(train_Y)\n",
    "test_Y = encode(test_Y)\n",
    "\n",
    "train_X = scaler.fit_transform(train_X)\n",
    "test_X = scaler.fit_transform(test_X)\n",
    "\n",
    "print(test_Y.shape)\n"
   ]
  },
  {
   "cell_type": "code",
   "execution_count": 4,
   "metadata": {},
   "outputs": [
    {
     "data": {
      "text/plain": [
       "27455"
      ]
     },
     "execution_count": 4,
     "metadata": {},
     "output_type": "execute_result"
    }
   ],
   "source": [
    "len(train_X)"
   ]
  },
  {
   "cell_type": "code",
   "execution_count": 5,
   "metadata": {},
   "outputs": [],
   "source": [
    "train_X = np.reshape(train_X, (len(train_X), 28, 28, 1))\n",
    "test_X = np.reshape(test_X, (len(test_X), 28, 28, 1))\n"
   ]
  },
  {
   "cell_type": "markdown",
   "metadata": {},
   "source": [
    "# Creating Model"
   ]
  },
  {
   "cell_type": "code",
   "execution_count": 6,
   "metadata": {},
   "outputs": [
    {
     "name": "stderr",
     "output_type": "stream",
     "text": [
      "/usr/local/lib/python3.5/dist-packages/ipykernel_launcher.py:2: UserWarning: Update your `Conv2D` call to the Keras 2 API: `Conv2D(16, (3, 3), input_shape=(28, 28, 1..., activation=\"relu\")`\n",
      "  \n"
     ]
    }
   ],
   "source": [
    "classifier= Sequential()\n",
    "classifier.add(Convolution2D(16, 3,3, input_shape=(train_X.shape[1:]), activation='relu'))\n",
    "classifier.add(MaxPooling2D(pool_size =(2,2)))\n",
    "#Flattening"
   ]
  },
  {
   "cell_type": "code",
   "execution_count": 7,
   "metadata": {},
   "outputs": [
    {
     "name": "stdout",
     "output_type": "stream",
     "text": [
      "_________________________________________________________________\n",
      "Layer (type)                 Output Shape              Param #   \n",
      "=================================================================\n",
      "conv2d_1 (Conv2D)            (None, 26, 26, 16)        160       \n",
      "_________________________________________________________________\n",
      "max_pooling2d_1 (MaxPooling2 (None, 13, 13, 16)        0         \n",
      "_________________________________________________________________\n",
      "flatten_1 (Flatten)          (None, 2704)              0         \n",
      "_________________________________________________________________\n",
      "dense_1 (Dense)              (None, 128)               346240    \n",
      "_________________________________________________________________\n",
      "dense_2 (Dense)              (None, 24)                3096      \n",
      "=================================================================\n",
      "Total params: 349,496\n",
      "Trainable params: 349,496\n",
      "Non-trainable params: 0\n",
      "_________________________________________________________________\n"
     ]
    }
   ],
   "source": [
    "\n",
    "classifier.add(Flatten())\n",
    "classifier.add(Dense(units=128, activation=\"relu\"))\n",
    "classifier.add(Dense(units=24, activation=\"sigmoid\"))\n",
    "\n",
    "classifier.summary()\n"
   ]
  },
  {
   "cell_type": "code",
   "execution_count": 8,
   "metadata": {},
   "outputs": [],
   "source": [
    "classifier.compile(optimizer=\"adam\", loss=\"categorical_crossentropy\", \n",
    "                   metrics=[\"accuracy\"])\n"
   ]
  },
  {
   "cell_type": "code",
   "execution_count": 9,
   "metadata": {},
   "outputs": [
    {
     "name": "stdout",
     "output_type": "stream",
     "text": [
      "Epoch 1/2\n",
      "27455/27455 [==============================] - 16s 599us/step - loss: 0.2581 - acc: 0.9269\n",
      "Epoch 2/2\n",
      "27455/27455 [==============================] - 16s 594us/step - loss: 0.0116 - acc: 0.9975\n"
     ]
    },
    {
     "data": {
      "text/plain": [
       "<keras.callbacks.History at 0x7f6c04073ba8>"
      ]
     },
     "execution_count": 9,
     "metadata": {},
     "output_type": "execute_result"
    }
   ],
   "source": [
    "classifier.fit(train_X, train_Y, batch_size = 10, epochs = 2)\n"
   ]
  },
  {
   "cell_type": "markdown",
   "metadata": {},
   "source": [
    "# Analyzing using test data"
   ]
  },
  {
   "cell_type": "code",
   "execution_count": 10,
   "metadata": {},
   "outputs": [],
   "source": [
    "pred_Y = classifier.predict(test_X)\n",
    "clean_pred_Y = []\n",
    "for preds in pred_Y:\n",
    "    index = 0\n",
    "    max_val = preds[index]\n",
    "    for i in range(len(preds)):\n",
    "        if preds[i] > max_val:\n",
    "            index = i\n",
    "            max_val = preds[i]\n",
    "    res = [0] * 24\n",
    "    res[index] = 1\n",
    "    clean_pred_Y.append(res)\n"
   ]
  },
  {
   "cell_type": "code",
   "execution_count": 16,
   "metadata": {},
   "outputs": [
    {
     "name": "stdout",
     "output_type": "stream",
     "text": [
      "Total Correct: 5532\n",
      "Correct/Total: 5532\n"
     ]
    }
   ],
   "source": [
    "correct = 0\n",
    "for i in range(len(clean_pred_Y)):\n",
    "    actual = test_Y[i].tolist()\n",
    "    if clean_pred_Y[i].index(1) == actual.index(1.0):\n",
    "        correct += 1\n",
    "print(\"Total Correct: \" + str(correct))\n",
    "print(\"Correct/Total: \" + str(correct))\n"
   ]
  },
  {
   "cell_type": "code",
   "execution_count": 15,
   "metadata": {},
   "outputs": [
    {
     "name": "stdout",
     "output_type": "stream",
     "text": [
      "Saved Model to ASL_Model.h5\n"
     ]
    }
   ],
   "source": [
    "classifier.save('ASL_Model.h5')  # creates a HDF5 file 'my_model.h5'\n",
    "print(\"Saved Model to ASL_Model.h5\")"
   ]
  },
  {
   "cell_type": "code",
   "execution_count": null,
   "metadata": {},
   "outputs": [],
   "source": []
  }
 ],
 "metadata": {
  "kernelspec": {
   "display_name": "Python 3",
   "language": "python",
   "name": "python3"
  },
  "language_info": {
   "codemirror_mode": {
    "name": "ipython",
    "version": 3
   },
   "file_extension": ".py",
   "mimetype": "text/x-python",
   "name": "python",
   "nbconvert_exporter": "python",
   "pygments_lexer": "ipython3",
   "version": "3.5.2"
  }
 },
 "nbformat": 4,
 "nbformat_minor": 2
}
